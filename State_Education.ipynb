{
 "cells": [
  {
   "cell_type": "code",
   "execution_count": 2,
   "metadata": {},
   "outputs": [],
   "source": [
    "import pandas as pd\n",
    "import numpy as np\n",
    "from sklearn.decomposition import PCA\n",
    "from sklearn import preprocessing\n",
    "import matplotlib.pyplot as plt \n",
    "\n",
    "data = pd.read_csv('USA_Education_Proportions_updatedforpuerto.csv')\n"
   ]
  },
  {
   "cell_type": "code",
   "execution_count": 3,
   "metadata": {},
   "outputs": [
    {
     "name": "stdout",
     "output_type": "stream",
     "text": [
      "State\n",
      "Algebra I PERCENT\n",
      "Geometry PERCENT\n",
      "ALgebra II PERCENT\n",
      "Adv. Math 1 PERCENT\n",
      "Calculus PERCENT\n",
      "Biology Classes PERCENT\n",
      "Chemistry Classes Percent\n",
      "Physics  Classes PERCENT\n",
      "Class room teachers FTE COUNT\n",
      "Meeting all lic. & cert. Percent\n",
      "First year of teaching PERCENT\n",
      "Second year of teaching PERCENT\n",
      "SAT-ACT Total per state\n",
      "Total Enrollment Per State\n",
      "AP total enrollment per state\n",
      "SAT-ACT Percent per state\n",
      "AP enrollent Percent Per state\n"
     ]
    }
   ],
   "source": [
    "for column_name in data.columns: \n",
    "    print(column_name)"
   ]
  },
  {
   "cell_type": "code",
   "execution_count": 4,
   "metadata": {},
   "outputs": [
    {
     "name": "stdout",
     "output_type": "stream",
     "text": [
      "State\n",
      "Algebra I PERCENT\n",
      "Geometry PERCENT\n",
      "ALgebra II PERCENT\n",
      "Adv. Math 1 PERCENT\n",
      "Calculus PERCENT\n",
      "Biology Classes PERCENT\n",
      "Chemistry Classes Percent\n",
      "Physics  Classes PERCENT\n",
      "Meeting all lic. & cert. Percent\n",
      "First year of teaching PERCENT\n",
      "Second year of teaching PERCENT\n",
      "SAT-ACT Percent per state\n",
      "AP enrollent Percent Per state\n"
     ]
    }
   ],
   "source": [
    "data.drop(\"Class room teachers FTE COUNT\", inplace =True, axis =1)\n",
    "data.drop(\"SAT-ACT Total per state\", inplace =True, axis =1)\n",
    "data.drop(\"Total Enrollment Per State\", inplace =True, axis =1)\n",
    "data.drop(\"AP total enrollment per state\", inplace =True, axis =1)\n",
    "\n",
    "for column_name in data.columns: \n",
    "    print(column_name)"
   ]
  },
  {
   "cell_type": "code",
   "execution_count": 29,
   "metadata": {},
   "outputs": [
    {
     "data": {
      "text/html": [
       "<div>\n",
       "<style scoped>\n",
       "    .dataframe tbody tr th:only-of-type {\n",
       "        vertical-align: middle;\n",
       "    }\n",
       "\n",
       "    .dataframe tbody tr th {\n",
       "        vertical-align: top;\n",
       "    }\n",
       "\n",
       "    .dataframe thead th {\n",
       "        text-align: right;\n",
       "    }\n",
       "</style>\n",
       "<table border=\"1\" class=\"dataframe\">\n",
       "  <thead>\n",
       "    <tr style=\"text-align: right;\">\n",
       "      <th></th>\n",
       "      <th>State</th>\n",
       "      <th>Algebra I PERCENT</th>\n",
       "      <th>Geometry PERCENT</th>\n",
       "      <th>ALgebra II PERCENT</th>\n",
       "      <th>Adv. Math 1 PERCENT</th>\n",
       "      <th>Calculus PERCENT</th>\n",
       "      <th>Biology Classes PERCENT</th>\n",
       "      <th>Chemistry Classes Percent</th>\n",
       "      <th>Physics  Classes PERCENT</th>\n",
       "      <th>Class room teachers FTE COUNT</th>\n",
       "      <th>Meeting all lic. &amp; cert. Percent</th>\n",
       "      <th>First year of teaching PERCENT</th>\n",
       "      <th>Second year of teaching PERCENT</th>\n",
       "      <th>SAT-ACT Total per state</th>\n",
       "      <th>Total Enrollment Per State</th>\n",
       "      <th>AP total enrollment per state</th>\n",
       "      <th>SAT-ACT Percent per state</th>\n",
       "      <th>AP enrollent Percent Per state</th>\n",
       "    </tr>\n",
       "  </thead>\n",
       "  <tbody>\n",
       "    <tr>\n",
       "      <th>0</th>\n",
       "      <td>50 states, District of Columbia, and Puerto Rico</td>\n",
       "      <td>0.864471</td>\n",
       "      <td>0.848101</td>\n",
       "      <td>0.807778</td>\n",
       "      <td>0.671834</td>\n",
       "      <td>0.494813</td>\n",
       "      <td>0.868885</td>\n",
       "      <td>0.745276</td>\n",
       "      <td>0.617517</td>\n",
       "      <td>3324084.02</td>\n",
       "      <td>0.968187</td>\n",
       "      <td>0.061890</td>\n",
       "      <td>0.054890</td>\n",
       "      <td>3653685</td>\n",
       "      <td>50922024</td>\n",
       "      <td>3030991</td>\n",
       "      <td>0.071751</td>\n",
       "      <td>0.059522</td>\n",
       "    </tr>\n",
       "    <tr>\n",
       "      <th>1</th>\n",
       "      <td>Alabama</td>\n",
       "      <td>0.910798</td>\n",
       "      <td>0.887324</td>\n",
       "      <td>0.845070</td>\n",
       "      <td>0.767606</td>\n",
       "      <td>0.438967</td>\n",
       "      <td>0.896714</td>\n",
       "      <td>0.826291</td>\n",
       "      <td>0.596244</td>\n",
       "      <td>47512.87</td>\n",
       "      <td>0.893793</td>\n",
       "      <td>0.049056</td>\n",
       "      <td>0.041761</td>\n",
       "      <td>61719</td>\n",
       "      <td>742981</td>\n",
       "      <td>33466</td>\n",
       "      <td>0.083069</td>\n",
       "      <td>0.045043</td>\n",
       "    </tr>\n",
       "    <tr>\n",
       "      <th>2</th>\n",
       "      <td>Alaska</td>\n",
       "      <td>0.773973</td>\n",
       "      <td>0.657534</td>\n",
       "      <td>0.551370</td>\n",
       "      <td>0.308219</td>\n",
       "      <td>0.171233</td>\n",
       "      <td>0.613014</td>\n",
       "      <td>0.280822</td>\n",
       "      <td>0.277397</td>\n",
       "      <td>7312.09</td>\n",
       "      <td>0.992705</td>\n",
       "      <td>0.058439</td>\n",
       "      <td>0.053025</td>\n",
       "      <td>4874</td>\n",
       "      <td>131621</td>\n",
       "      <td>4487</td>\n",
       "      <td>0.037031</td>\n",
       "      <td>0.034090</td>\n",
       "    </tr>\n",
       "    <tr>\n",
       "      <th>3</th>\n",
       "      <td>Arizona</td>\n",
       "      <td>0.852727</td>\n",
       "      <td>0.865455</td>\n",
       "      <td>0.845455</td>\n",
       "      <td>0.589091</td>\n",
       "      <td>0.438182</td>\n",
       "      <td>0.869091</td>\n",
       "      <td>0.660000</td>\n",
       "      <td>0.507273</td>\n",
       "      <td>60874.99</td>\n",
       "      <td>0.902107</td>\n",
       "      <td>0.083565</td>\n",
       "      <td>0.068370</td>\n",
       "      <td>60972</td>\n",
       "      <td>1146677</td>\n",
       "      <td>60290</td>\n",
       "      <td>0.053173</td>\n",
       "      <td>0.052578</td>\n",
       "    </tr>\n",
       "    <tr>\n",
       "      <th>4</th>\n",
       "      <td>Arkansas</td>\n",
       "      <td>0.934286</td>\n",
       "      <td>0.940000</td>\n",
       "      <td>0.860000</td>\n",
       "      <td>0.737143</td>\n",
       "      <td>0.288571</td>\n",
       "      <td>0.894286</td>\n",
       "      <td>0.834286</td>\n",
       "      <td>0.688571</td>\n",
       "      <td>34876.23</td>\n",
       "      <td>0.977487</td>\n",
       "      <td>0.076790</td>\n",
       "      <td>0.054996</td>\n",
       "      <td>46644</td>\n",
       "      <td>496573</td>\n",
       "      <td>30154</td>\n",
       "      <td>0.093932</td>\n",
       "      <td>0.060724</td>\n",
       "    </tr>\n",
       "  </tbody>\n",
       "</table>\n",
       "</div>"
      ],
      "text/plain": [
       "                                              State  Algebra I PERCENT  \\\n",
       "0  50 states, District of Columbia, and Puerto Rico           0.864471   \n",
       "1                                           Alabama           0.910798   \n",
       "2                                            Alaska           0.773973   \n",
       "3                                           Arizona           0.852727   \n",
       "4                                          Arkansas           0.934286   \n",
       "\n",
       "   Geometry PERCENT  ALgebra II PERCENT  Adv. Math 1 PERCENT  \\\n",
       "0          0.848101            0.807778             0.671834   \n",
       "1          0.887324            0.845070             0.767606   \n",
       "2          0.657534            0.551370             0.308219   \n",
       "3          0.865455            0.845455             0.589091   \n",
       "4          0.940000            0.860000             0.737143   \n",
       "\n",
       "   Calculus PERCENT  Biology Classes PERCENT  Chemistry Classes Percent  \\\n",
       "0          0.494813                 0.868885                   0.745276   \n",
       "1          0.438967                 0.896714                   0.826291   \n",
       "2          0.171233                 0.613014                   0.280822   \n",
       "3          0.438182                 0.869091                   0.660000   \n",
       "4          0.288571                 0.894286                   0.834286   \n",
       "\n",
       "   Physics  Classes PERCENT  Class room teachers FTE COUNT  \\\n",
       "0                  0.617517                     3324084.02   \n",
       "1                  0.596244                       47512.87   \n",
       "2                  0.277397                        7312.09   \n",
       "3                  0.507273                       60874.99   \n",
       "4                  0.688571                       34876.23   \n",
       "\n",
       "   Meeting all lic. & cert. Percent  First year of teaching PERCENT  \\\n",
       "0                          0.968187                        0.061890   \n",
       "1                          0.893793                        0.049056   \n",
       "2                          0.992705                        0.058439   \n",
       "3                          0.902107                        0.083565   \n",
       "4                          0.977487                        0.076790   \n",
       "\n",
       "   Second year of teaching PERCENT  SAT-ACT Total per state  \\\n",
       "0                         0.054890                  3653685   \n",
       "1                         0.041761                    61719   \n",
       "2                         0.053025                     4874   \n",
       "3                         0.068370                    60972   \n",
       "4                         0.054996                    46644   \n",
       "\n",
       "   Total Enrollment Per State  AP total enrollment per state  \\\n",
       "0                    50922024                        3030991   \n",
       "1                      742981                          33466   \n",
       "2                      131621                           4487   \n",
       "3                     1146677                          60290   \n",
       "4                      496573                          30154   \n",
       "\n",
       "   SAT-ACT Percent per state  AP enrollent Percent Per state  \n",
       "0                   0.071751                        0.059522  \n",
       "1                   0.083069                        0.045043  \n",
       "2                   0.037031                        0.034090  \n",
       "3                   0.053173                        0.052578  \n",
       "4                   0.093932                        0.060724  "
      ]
     },
     "execution_count": 29,
     "metadata": {},
     "output_type": "execute_result"
    }
   ],
   "source": [
    "data.head()"
   ]
  },
  {
   "cell_type": "markdown",
   "metadata": {},
   "source": [
    "At this point the data is now holding the features all in percentages just as in R"
   ]
  },
  {
   "cell_type": "code",
   "execution_count": 12,
   "metadata": {},
   "outputs": [
    {
     "data": {
      "image/png": "[encoded data removed]",
      "text/plain": [
       "<Figure size 640x480 with 2 Axes>"
      ]
     },
     "metadata": {},
     "output_type": "display_data"
    },
    {
     "name": "stdout",
     "output_type": "stream",
     "text": [
      "Cluster 0: ['District of Columbia', 'Georgia', 'Indiana', 'Iowa', 'Kansas', 'Maine', 'Maryland', 'Massachusetts', 'Montana', 'Nebraska', 'New Hampshire', 'New Jersey', 'North Carolina', 'Ohio', 'Pennsylvania', 'Rhode Island', 'South Carolina', 'Texas', 'Vermont', 'Virginia', 'West Virginia', 'Wisconsin']\n",
      "Cluster 1: ['Alaska']\n",
      "Cluster 2: ['50 states, District of Columbia, and Puerto Rico', 'Alabama', 'Arizona', 'Arkansas', 'Florida', 'Hawaii', 'Illinois', 'Kentucky', 'Louisiana', 'Michigan', 'Mississippi', 'Missouri', 'Nevada', 'New Mexico', 'New York', 'North Dakota', 'Oklahoma', 'South Dakota', 'Tennessee', 'Wyoming']\n",
      "Cluster 3: ['California', 'Colorado', 'Connecticut', 'Delaware', 'Idaho', 'Minnesota', 'Oregon', 'Utah', 'Washington']\n",
      "Cluster 4: ['Puerto Rico']\n"
     ]
    }
   ],
   "source": [
    "#PCA from ChatGPT: \n",
    "\n",
    "from sklearn import preprocessing\n",
    "from sklearn.decomposition import PCA\n",
    "from sklearn.cluster import KMeans\n",
    "import pandas as pd\n",
    "import matplotlib.pyplot as plt\n",
    "\n",
    "# Load your data from CSV\n",
    "\n",
    "# Extract state column (if needed for visualization or labeling)\n",
    "states = data['State']  \n",
    "\n",
    "# Drop state column for PCA\n",
    "data_numeric = data.drop('State', axis=1)\n",
    "\n",
    "# Scale the numeric data\n",
    "scaled_data = preprocessing.scale(data_numeric)\n",
    "\n",
    "# Perform PCA\n",
    "pca = PCA()\n",
    "pca.fit(scaled_data)\n",
    "pca_data = pca.transform(scaled_data)\n",
    "\n",
    "# Perform clustering on PCA-transformed data\n",
    "kmeans = KMeans(n_clusters=5)  # Adjust number of clusters as needed\n",
    "clusters = kmeans.fit_predict(pca_data)\n",
    "\n",
    "# Visualize clusters (example using first two principal components)\n",
    "plt.scatter(pca_data[:, 0], pca_data[:, 1], c=clusters, cmap='viridis')\n",
    "plt.xlabel('Principal Component 1')\n",
    "plt.ylabel('Principal Component 2')\n",
    "plt.title('PCA Clusters')\n",
    "plt.colorbar(label='Cluster')\n",
    "plt.show()\n",
    "\n",
    "# Associate states with clusters\n",
    "state_clusters = pd.DataFrame({'State': states, 'Cluster': clusters})\n",
    "\n",
    "# Print states in each cluster\n",
    "for cluster_id in range(5):  # Assuming 5 clusters\n",
    "    states_in_cluster = state_clusters[state_clusters['Cluster'] == cluster_id]['State']\n",
    "    print(f'Cluster {cluster_id}: {states_in_cluster.tolist()}')\n",
    "\n",
    "\n",
    "\n"
   ]
  },
  {
   "cell_type": "code",
   "execution_count": 10,
   "metadata": {},
   "outputs": [
    {
     "data": {
      "image/png": "[encoded data removed]",
      "text/plain": [
       "<Figure size 1000x800 with 1 Axes>"
      ]
     },
     "metadata": {},
     "output_type": "display_data"
    }
   ],
   "source": [
    "##getting fancier by promting ChatGPT some more...\n",
    "\n",
    "import seaborn as sns  # for advanced styling\n",
    "import matplotlib.pyplot as plt\n",
    "from sklearn.decomposition import PCA\n",
    "from sklearn.cluster import KMeans\n",
    "import pandas as pd\n",
    "\n",
    "\n",
    "# Extract state column (if needed for visualization or labeling)\n",
    "states = data['State']  # Assuming 'State' is the name of the column containing state information\n",
    "\n",
    "# Drop state column for PCA\n",
    "data_numeric = data.drop('State', axis=1)\n",
    "\n",
    "# Perform PCA\n",
    "pca = PCA(n_components=2)\n",
    "pca_data = pca.fit_transform(data_numeric)\n",
    "\n",
    "# Perform clustering on PCA-transformed data\n",
    "kmeans = KMeans(n_clusters=5)  # Adjust number of clusters as needed\n",
    "clusters = kmeans.fit_predict(pca_data)\n",
    "\n",
    "# Create a scatter plot\n",
    "plt.figure(figsize=(10, 8))\n",
    "sns.scatterplot(x=pca_data[:, 0], y=pca_data[:, 1], hue=clusters, palette='viridis', s=100)\n",
    "\n",
    "# Add state names as text annotations\n",
    "for i, state in enumerate(states):\n",
    "    plt.text(pca_data[i, 0], pca_data[i, 1], state, fontsize=8, ha='center', va='center')\n",
    "\n",
    "# Add labels and legend\n",
    "plt.title('PCA Clustering with State Names')\n",
    "plt.xlabel('Principal Component 1')\n",
    "plt.ylabel('Principal Component 2')\n",
    "plt.legend(title='Cluster')\n",
    "\n",
    "# Customize grid lines and background\n",
    "plt.grid(True, linestyle='--', alpha=0.5)\n",
    "plt.axhline(0, color='black', linewidth=0.5)\n",
    "plt.axvline(0, color='black', linewidth=0.5)\n",
    "plt.gca().set_facecolor('#f5f5f5')\n",
    "\n",
    "plt.show()\n"
   ]
  },
  {
   "cell_type": "code",
   "execution_count": 13,
   "metadata": {},
   "outputs": [
    {
     "data": {
      "application/vnd.plotly.v1+json": {
       "config": {
        "plotlyServerURL": "https://plot.ly"
       },
       "data": [
        {
         "hovertemplate": "<b>%{hovertext}</b><br><br>Principal Component 1=%{x}<br>Principal Component 2=%{y}<br>Cluster=%{marker.color}<extra></extra>",
         "hovertext": [
          "50 states, District of Columbia, and Puerto Rico",
          "Alabama",
          "Alaska",
          "Arizona",
          "Arkansas",
          "California",
          "Colorado",
          "Connecticut",
          "Delaware",
          "District of Columbia",
          "Florida",
          "Georgia",
          "Hawaii",
          "Idaho",
          "Illinois",
          "Indiana",
          "Iowa",
          "Kansas",
          "Kentucky",
          "Louisiana",
          "Maine",
          "Maryland",
          "Massachusetts",
          "Michigan",
          "Minnesota",
          "Mississippi",
          "Missouri",
          "Montana",
          "Nebraska",
          "Nevada",
          "New Hampshire",
          "New Jersey",
          "New Mexico",
          "New York",
          "North Carolina",
          "North Dakota",
          "Ohio",
          "Oklahoma",
          "Oregon",
          "Pennsylvania",
          "Rhode Island",
          "South Carolina",
          "South Dakota",
          "Tennessee",
          "Texas",
          "Utah",
          "Vermont",
          "Virginia",
          "Washington",
          "West Virginia",
          "Wisconsin",
          "Wyoming",
          "Puerto Rico"
         ],
         "legendgroup": "",
         "marker": {
          "color": [
           0,
           0,
           4,
           0,
           0,
           1,
           0,
           0,
           0,
           2,
           0,
           2,
           0,
           1,
           0,
           2,
           2,
           2,
           0,
           0,
           2,
           2,
           2,
           0,
           1,
           0,
           0,
           2,
           2,
           0,
           2,
           2,
           0,
           0,
           0,
           0,
           2,
           0,
           0,
           2,
           2,
           2,
           0,
           0,
           2,
           1,
           2,
           2,
           1,
           2,
           2,
           0,
           3
          ],
          "coloraxis": "coloraxis",
          "symbol": "circle"
         },
         "mode": "markers",
         "name": "",
         "orientation": "v",
         "showlegend": false,
         "type": "scatter",
         "x": [
          0.041180175813608014,
          -0.027798220874496692,
          0.8685343496305797,
          0.17753855700791632,
          -0.0054095768065316316,
          0.339550376950526,
          0.007993685245146348,
          0.14452842056987325,
          0.016066195474820542,
          -0.1396788453059831,
          0.18292463612377902,
          -0.1610090590465278,
          -0.052556484811659816,
          0.3418192562459078,
          -0.05977038604223644,
          -0.35609107593759437,
          -0.41934194573220496,
          -0.2273532261612431,
          0.0009600123869610028,
          0.09430599165889339,
          -0.411938829356494,
          -0.17458103343155823,
          -0.14196273215528923,
          0.20037424312912874,
          0.5069041367685261,
          0.1880765050318568,
          0.1936517344775147,
          -0.1662565466597593,
          -0.16266546929562475,
          0.025630713407280393,
          -0.5145679059915456,
          -0.27038975403103366,
          0.17161929047326643,
          -0.04332232491721335,
          -0.01172952348420943,
          0.10548727375419803,
          -0.28154055390208604,
          0.2304876013024368,
          0.17114800385249113,
          -0.23354282391607376,
          -0.3304529900070831,
          -0.1309338019755481,
          0.09314184014219937,
          -0.051071452115899155,
          -0.14799766691453756,
          0.45908254930608383,
          -0.29416686490659194,
          -0.1842600812153831,
          0.43073846906756735,
          -0.28667420827257006,
          -0.16236142672981227,
          0.020948651452012343,
          0.4367321407242215
         ],
         "xaxis": "x",
         "y": [
          -0.0028701445363246104,
          -0.020143938410746538,
          -0.14047481519314614,
          -0.05024624909396896,
          0.030050910670137727,
          -0.06169103938650475,
          0.045016096498531895,
          0.03844164530100179,
          0.003554788738071454,
          0.07443853327193563,
          -0.17506961495387188,
          -0.040430241442439147,
          -0.025394050973784825,
          -0.08099132983058101,
          -0.012195093526405807,
          -0.01148795421210747,
          0.06940376778459006,
          0.03686760978265104,
          0.07700942644154136,
          -0.10489566896044242,
          0.05170586458253734,
          0.02468769156728742,
          0.06630727289817245,
          0.0294523766684848,
          0.19347294378398616,
          -0.04081697149702803,
          -0.08475552514866908,
          -0.03377776659231373,
          0.03455413233527611,
          -0.04575063333037504,
          0.016316639852254757,
          0.03247467406962289,
          -0.08789270189003165,
          -0.05009345881508185,
          -0.13960023781728223,
          -0.10244545479023336,
          0.05022582689271693,
          -0.2354162479120578,
          -0.04413811389920844,
          0.03506762472064802,
          -0.004391051136690918,
          0.006149788366857458,
          -0.02967967320393461,
          -0.0001999254817035939,
          0.10872520028648652,
          0.024004527411222845,
          0.0667080111976752,
          -0.03279209011682497,
          -0.025034328283777014,
          -0.10291752689581579,
          0.013731986407862166,
          -0.11383238205599627,
          0.7710568898577962
         ],
         "yaxis": "y"
        }
       ],
       "layout": {
        "coloraxis": {
         "colorbar": {
          "title": {
           "text": "Cluster"
          }
         },
         "colorscale": [
          [
           0,
           "#0d0887"
          ],
          [
           0.1111111111111111,
           "#46039f"
          ],
          [
           0.2222222222222222,
           "#7201a8"
          ],
          [
           0.3333333333333333,
           "#9c179e"
          ],
          [
           0.4444444444444444,
           "#bd3786"
          ],
          [
           0.5555555555555556,
           "#d8576b"
          ],
          [
           0.6666666666666666,
           "#ed7953"
          ],
          [
           0.7777777777777778,
           "#fb9f3a"
          ],
          [
           0.8888888888888888,
           "#fdca26"
          ],
          [
           1,
           "#f0f921"
          ]
         ]
        },
        "height": 600,
        "legend": {
         "tracegroupgap": 0
        },
        "template": {
         "data": {
          "bar": [
           {
            "error_x": {
             "color": "#2a3f5f"
            },
            "error_y": {
             "color": "#2a3f5f"
            },
            "marker": {
             "line": {
              "color": "white",
              "width": 0.5
             },
             "pattern": {
              "fillmode": "overlay",
              "size": 10,
              "solidity": 0.2
             }
            },
            "type": "bar"
           }
          ],
          "barpolar": [
           {
            "marker": {
             "line": {
              "color": "white",
              "width": 0.5
             },
             "pattern": {
              "fillmode": "overlay",
              "size": 10,
              "solidity": 0.2
             }
            },
            "type": "barpolar"
           }
          ],
          "carpet": [
           {
            "aaxis": {
             "endlinecolor": "#2a3f5f",
             "gridcolor": "#C8D4E3",
             "linecolor": "#C8D4E3",
             "minorgridcolor": "#C8D4E3",
             "startlinecolor": "#2a3f5f"
            },
            "baxis": {
             "endlinecolor": "#2a3f5f",
             "gridcolor": "#C8D4E3",
             "linecolor": "#C8D4E3",
             "minorgridcolor": "#C8D4E3",
             "startlinecolor": "#2a3f5f"
            },
            "type": "carpet"
           }
          ],
          "choropleth": [
           {
            "colorbar": {
             "outlinewidth": 0,
             "ticks": ""
            },
            "type": "choropleth"
           }
          ],
          "contour": [
           {
            "colorbar": {
             "outlinewidth": 0,
             "ticks": ""
            },
            "colorscale": [
             [
              0,
              "#0d0887"
             ],
             [
              0.1111111111111111,
              "#46039f"
             ],
             [
              0.2222222222222222,
              "#7201a8"
             ],
             [
              0.3333333333333333,
              "#9c179e"
             ],
             [
              0.4444444444444444,
              "#bd3786"
             ],
             [
              0.5555555555555556,
              "#d8576b"
             ],
             [
              0.6666666666666666,
              "#ed7953"
             ],
             [
              0.7777777777777778,
              "#fb9f3a"
             ],
             [
              0.8888888888888888,
              "#fdca26"
             ],
             [
              1,
              "#f0f921"
             ]
            ],
            "type": "contour"
           }
          ],
          "contourcarpet": [
           {
            "colorbar": {
             "outlinewidth": 0,
             "ticks": ""
            },
            "type": "contourcarpet"
           }
          ],
          "heatmap": [
           {
            "colorbar": {
             "outlinewidth": 0,
             "ticks": ""
            },
            "colorscale": [
             [
              0,
              "#0d0887"
             ],
             [
              0.1111111111111111,
              "#46039f"
             ],
             [
              0.2222222222222222,
              "#7201a8"
             ],
             [
              0.3333333333333333,
              "#9c179e"
             ],
             [
              0.4444444444444444,
              "#bd3786"
             ],
             [
              0.5555555555555556,
              "#d8576b"
             ],
             [
              0.6666666666666666,
              "#ed7953"
             ],
             [
              0.7777777777777778,
              "#fb9f3a"
             ],
             [
              0.8888888888888888,
              "#fdca26"
             ],
             [
              1,
              "#f0f921"
             ]
            ],
            "type": "heatmap"
           }
          ],
          "heatmapgl": [
           {
            "colorbar": {
             "outlinewidth": 0,
             "ticks": ""
            },
            "colorscale": [
             [
              0,
              "#0d0887"
             ],
             [
              0.1111111111111111,
              "#46039f"
             ],
             [
              0.2222222222222222,
              "#7201a8"
             ],
             [
              0.3333333333333333,
              "#9c179e"
             ],
             [
              0.4444444444444444,
              "#bd3786"
             ],
             [
              0.5555555555555556,
              "#d8576b"
             ],
             [
              0.6666666666666666,
              "#ed7953"
             ],
             [
              0.7777777777777778,
              "#fb9f3a"
             ],
             [
              0.8888888888888888,
              "#fdca26"
             ],
             [
              1,
              "#f0f921"
             ]
            ],
            "type": "heatmapgl"
           }
          ],
          "histogram": [
           {
            "marker": {
             "pattern": {
              "fillmode": "overlay",
              "size": 10,
              "solidity": 0.2
             }
            },
            "type": "histogram"
           }
          ],
          "histogram2d": [
           {
            "colorbar": {
             "outlinewidth": 0,
             "ticks": ""
            },
            "colorscale": [
             [
              0,
              "#0d0887"
             ],
             [
              0.1111111111111111,
              "#46039f"
             ],
             [
              0.2222222222222222,
              "#7201a8"
             ],
             [
              0.3333333333333333,
              "#9c179e"
             ],
             [
              0.4444444444444444,
              "#bd3786"
             ],
             [
              0.5555555555555556,
              "#d8576b"
             ],
             [
              0.6666666666666666,
              "#ed7953"
             ],
             [
              0.7777777777777778,
              "#fb9f3a"
             ],
             [
              0.8888888888888888,
              "#fdca26"
             ],
             [
              1,
              "#f0f921"
             ]
            ],
            "type": "histogram2d"
           }
          ],
          "histogram2dcontour": [
           {
            "colorbar": {
             "outlinewidth": 0,
             "ticks": ""
            },
            "colorscale": [
             [
              0,
              "#0d0887"
             ],
             [
              0.1111111111111111,
              "#46039f"
             ],
             [
              0.2222222222222222,
              "#7201a8"
             ],
             [
              0.3333333333333333,
              "#9c179e"
             ],
             [
              0.4444444444444444,
              "#bd3786"
             ],
             [
              0.5555555555555556,
              "#d8576b"
             ],
             [
              0.6666666666666666,
              "#ed7953"
             ],
             [
              0.7777777777777778,
              "#fb9f3a"
             ],
             [
              0.8888888888888888,
              "#fdca26"
             ],
             [
              1,
              "#f0f921"
             ]
            ],
            "type": "histogram2dcontour"
           }
          ],
          "mesh3d": [
           {
            "colorbar": {
             "outlinewidth": 0,
             "ticks": ""
            },
            "type": "mesh3d"
           }
          ],
          "parcoords": [
           {
            "line": {
             "colorbar": {
              "outlinewidth": 0,
              "ticks": ""
             }
            },
            "type": "parcoords"
           }
          ],
          "pie": [
           {
            "automargin": true,
            "type": "pie"
           }
          ],
          "scatter": [
           {
            "fillpattern": {
             "fillmode": "overlay",
             "size": 10,
             "solidity": 0.2
            },
            "type": "scatter"
           }
          ],
          "scatter3d": [
           {
            "line": {
             "colorbar": {
              "outlinewidth": 0,
              "ticks": ""
             }
            },
            "marker": {
             "colorbar": {
              "outlinewidth": 0,
              "ticks": ""
             }
            },
            "type": "scatter3d"
           }
          ],
          "scattercarpet": [
           {
            "marker": {
             "colorbar": {
              "outlinewidth": 0,
              "ticks": ""
             }
            },
            "type": "scattercarpet"
           }
          ],
          "scattergeo": [
           {
            "marker": {
             "colorbar": {
              "outlinewidth": 0,
              "ticks": ""
             }
            },
            "type": "scattergeo"
           }
          ],
          "scattergl": [
           {
            "marker": {
             "colorbar": {
              "outlinewidth": 0,
              "ticks": ""
             }
            },
            "type": "scattergl"
           }
          ],
          "scattermapbox": [
           {
            "marker": {
             "colorbar": {
              "outlinewidth": 0,
              "ticks": ""
             }
            },
            "type": "scattermapbox"
           }
          ],
          "scatterpolar": [
           {
            "marker": {
             "colorbar": {
              "outlinewidth": 0,
              "ticks": ""
             }
            },
            "type": "scatterpolar"
           }
          ],
          "scatterpolargl": [
           {
            "marker": {
             "colorbar": {
              "outlinewidth": 0,
              "ticks": ""
             }
            },
            "type": "scatterpolargl"
           }
          ],
          "scatterternary": [
           {
            "marker": {
             "colorbar": {
              "outlinewidth": 0,
              "ticks": ""
             }
            },
            "type": "scatterternary"
           }
          ],
          "surface": [
           {
            "colorbar": {
             "outlinewidth": 0,
             "ticks": ""
            },
            "colorscale": [
             [
              0,
              "#0d0887"
             ],
             [
              0.1111111111111111,
              "#46039f"
             ],
             [
              0.2222222222222222,
              "#7201a8"
             ],
             [
              0.3333333333333333,
              "#9c179e"
             ],
             [
              0.4444444444444444,
              "#bd3786"
             ],
             [
              0.5555555555555556,
              "#d8576b"
             ],
             [
              0.6666666666666666,
              "#ed7953"
             ],
             [
              0.7777777777777778,
              "#fb9f3a"
             ],
             [
              0.8888888888888888,
              "#fdca26"
             ],
             [
              1,
              "#f0f921"
             ]
            ],
            "type": "surface"
           }
          ],
          "table": [
           {
            "cells": {
             "fill": {
              "color": "#EBF0F8"
             },
             "line": {
              "color": "white"
             }
            },
            "header": {
             "fill": {
              "color": "#C8D4E3"
             },
             "line": {
              "color": "white"
             }
            },
            "type": "table"
           }
          ]
         },
         "layout": {
          "annotationdefaults": {
           "arrowcolor": "#2a3f5f",
           "arrowhead": 0,
           "arrowwidth": 1
          },
          "autotypenumbers": "strict",
          "coloraxis": {
           "colorbar": {
            "outlinewidth": 0,
            "ticks": ""
           }
          },
          "colorscale": {
           "diverging": [
            [
             0,
             "#8e0152"
            ],
            [
             0.1,
             "#c51b7d"
            ],
            [
             0.2,
             "#de77ae"
            ],
            [
             0.3,
             "#f1b6da"
            ],
            [
             0.4,
             "#fde0ef"
            ],
            [
             0.5,
             "#f7f7f7"
            ],
            [
             0.6,
             "#e6f5d0"
            ],
            [
             0.7,
             "#b8e186"
            ],
            [
             0.8,
             "#7fbc41"
            ],
            [
             0.9,
             "#4d9221"
            ],
            [
             1,
             "#276419"
            ]
           ],
           "sequential": [
            [
             0,
             "#0d0887"
            ],
            [
             0.1111111111111111,
             "#46039f"
            ],
            [
             0.2222222222222222,
             "#7201a8"
            ],
            [
             0.3333333333333333,
             "#9c179e"
            ],
            [
             0.4444444444444444,
             "#bd3786"
            ],
            [
             0.5555555555555556,
             "#d8576b"
            ],
            [
             0.6666666666666666,
             "#ed7953"
            ],
            [
             0.7777777777777778,
             "#fb9f3a"
            ],
            [
             0.8888888888888888,
             "#fdca26"
            ],
            [
             1,
             "#f0f921"
            ]
           ],
           "sequentialminus": [
            [
             0,
             "#0d0887"
            ],
            [
             0.1111111111111111,
             "#46039f"
            ],
            [
             0.2222222222222222,
             "#7201a8"
            ],
            [
             0.3333333333333333,
             "#9c179e"
            ],
            [
             0.4444444444444444,
             "#bd3786"
            ],
            [
             0.5555555555555556,
             "#d8576b"
            ],
            [
             0.6666666666666666,
             "#ed7953"
            ],
            [
             0.7777777777777778,
             "#fb9f3a"
            ],
            [
             0.8888888888888888,
             "#fdca26"
            ],
            [
             1,
             "#f0f921"
            ]
           ]
          },
          "colorway": [
           "#636efa",
           "#EF553B",
           "#00cc96",
           "#ab63fa",
           "#FFA15A",
           "#19d3f3",
           "#FF6692",
           "#B6E880",
           "#FF97FF",
           "#FECB52"
          ],
          "font": {
           "color": "#2a3f5f"
          },
          "geo": {
           "bgcolor": "white",
           "lakecolor": "white",
           "landcolor": "white",
           "showlakes": true,
           "showland": true,
           "subunitcolor": "#C8D4E3"
          },
          "hoverlabel": {
           "align": "left"
          },
          "hovermode": "closest",
          "mapbox": {
           "style": "light"
          },
          "paper_bgcolor": "white",
          "plot_bgcolor": "white",
          "polar": {
           "angularaxis": {
            "gridcolor": "#EBF0F8",
            "linecolor": "#EBF0F8",
            "ticks": ""
           },
           "bgcolor": "white",
           "radialaxis": {
            "gridcolor": "#EBF0F8",
            "linecolor": "#EBF0F8",
            "ticks": ""
           }
          },
          "scene": {
           "xaxis": {
            "backgroundcolor": "white",
            "gridcolor": "#DFE8F3",
            "gridwidth": 2,
            "linecolor": "#EBF0F8",
            "showbackground": true,
            "ticks": "",
            "zerolinecolor": "#EBF0F8"
           },
           "yaxis": {
            "backgroundcolor": "white",
            "gridcolor": "#DFE8F3",
            "gridwidth": 2,
            "linecolor": "#EBF0F8",
            "showbackground": true,
            "ticks": "",
            "zerolinecolor": "#EBF0F8"
           },
           "zaxis": {
            "backgroundcolor": "white",
            "gridcolor": "#DFE8F3",
            "gridwidth": 2,
            "linecolor": "#EBF0F8",
            "showbackground": true,
            "ticks": "",
            "zerolinecolor": "#EBF0F8"
           }
          },
          "shapedefaults": {
           "line": {
            "color": "#2a3f5f"
           }
          },
          "ternary": {
           "aaxis": {
            "gridcolor": "#DFE8F3",
            "linecolor": "#A2B1C6",
            "ticks": ""
           },
           "baxis": {
            "gridcolor": "#DFE8F3",
            "linecolor": "#A2B1C6",
            "ticks": ""
           },
           "bgcolor": "white",
           "caxis": {
            "gridcolor": "#DFE8F3",
            "linecolor": "#A2B1C6",
            "ticks": ""
           }
          },
          "title": {
           "x": 0.05
          },
          "xaxis": {
           "automargin": true,
           "gridcolor": "#EBF0F8",
           "linecolor": "#EBF0F8",
           "ticks": "",
           "title": {
            "standoff": 15
           },
           "zerolinecolor": "#EBF0F8",
           "zerolinewidth": 2
          },
          "yaxis": {
           "automargin": true,
           "gridcolor": "#EBF0F8",
           "linecolor": "#EBF0F8",
           "ticks": "",
           "title": {
            "standoff": 15
           },
           "zerolinecolor": "#EBF0F8",
           "zerolinewidth": 2
          }
         }
        },
        "title": {
         "text": "PCA Clustering with State Names"
        },
        "width": 800,
        "xaxis": {
         "anchor": "y",
         "domain": [
          0,
          1
         ],
         "title": {
          "text": "Principal Component 1"
         }
        },
        "yaxis": {
         "anchor": "x",
         "domain": [
          0,
          1
         ],
         "title": {
          "text": "Principal Component 2"
         }
        }
       }
      }
     },
     "metadata": {},
     "output_type": "display_data"
    }
   ],
   "source": [
    "#interactive plot of pca\n",
    "import plotly.express as px\n",
    "import pandas as pd\n",
    "from sklearn.decomposition import PCA\n",
    "from sklearn.cluster import KMeans\n",
    "\n",
    "\n",
    "# Extract state column (if needed for visualization or labeling)\n",
    "states = data['State']  # Assuming 'State' is the name of the column containing state information\n",
    "\n",
    "# Drop state column for PCA\n",
    "data_numeric = data.drop('State', axis=1)\n",
    "\n",
    "# Perform PCA\n",
    "pca = PCA(n_components=2)\n",
    "pca_data = pca.fit_transform(data_numeric)\n",
    "\n",
    "# Perform clustering on PCA-transformed data\n",
    "kmeans = KMeans(n_clusters=5)  # Adjust number of clusters as needed\n",
    "clusters = kmeans.fit_predict(pca_data)\n",
    "\n",
    "# Create a DataFrame for visualization\n",
    "plot_data = pd.DataFrame({\n",
    "    'PC1': pca_data[:, 0],\n",
    "    'PC2': pca_data[:, 1],\n",
    "    'State': states,\n",
    "    'Cluster': clusters\n",
    "})\n",
    "\n",
    "# Create an interactive scatter plot using Plotly\n",
    "fig = px.scatter(plot_data, x='PC1', y='PC2', color='Cluster', hover_name='State', \n",
    "                 title='PCA Clustering with State Names', labels={'PC1': 'Principal Component 1', 'PC2': 'Principal Component 2'},\n",
    "                 template='plotly_white', width=800, height=600)\n",
    "\n",
    "# Show the plot\n",
    "fig.show()\n"
   ]
  },
  {
   "cell_type": "code",
   "execution_count": null,
   "metadata": {},
   "outputs": [],
   "source": [
    "import plotly.express as px\n",
    "import pandas as pd\n",
    "from sklearn.decomposition import PCA\n",
    "from sklearn.cluster import KMeans\n",
    "import dash\n",
    "from dash import dcc, html\n",
    "from dash.dependencies import Input, Output\n",
    "\n",
    "\n",
    "\n",
    "# Extract state column (if needed for visualization or labeling)\n",
    "states = data['State']  # Assuming 'State' is the name of the column containing state information\n",
    "\n",
    "# Drop state column for PCA\n",
    "data_numeric = data.drop('State', axis=1)\n",
    "\n",
    "# Perform PCA\n",
    "pca = PCA(n_components=2)\n",
    "pca_data = pca.fit_transform(data_numeric)\n",
    "\n",
    "# Define the layout for the app\n",
    "app = dash.Dash(__name__)\n",
    "\n",
    "# Create a range of cluster values for the slider\n",
    "cluster_range = list(range(1, 11))\n",
    "\n",
    "# Define the app layout\n",
    "app.layout = html.Div([\n",
    "    html.H1(\"PCA Clustering with State Names\"),\n",
    "    dcc.Graph(id='cluster-graph'),\n",
    "    html.Label('Number of Clusters'),\n",
    "    dcc.Slider(\n",
    "        id='cluster-slider',\n",
    "        min=1,\n",
    "        max=10,\n",
    "        step=1,\n",
    "        value=5,\n",
    "        marks={i: str(i) for i in cluster_range}\n",
    "    )\n",
    "])\n",
    "\n",
    "# Define callback to update the plot based on slider value\n",
    "@app.callback(\n",
    "    Output('cluster-graph', 'figure'),\n",
    "    [Input('cluster-slider', 'value')]\n",
    ")\n",
    "def update_cluster_graph(num_clusters):\n",
    "    # Perform clustering on PCA-transformed data with the specified number of clusters\n",
    "    kmeans = KMeans(n_clusters=num_clusters)\n",
    "    clusters = kmeans.fit_predict(pca_data)\n",
    "\n",
    "    # Create a DataFrame for visualization\n",
    "    plot_data = pd.DataFrame({\n",
    "        'PC1': pca_data[:, 0],\n",
    "        'PC2': pca_data[:, 1],\n",
    "        'State': states,\n",
    "        'Cluster': clusters\n",
    "    })\n",
    "\n",
    "    # Create an interactive scatter plot using Plotly \n",
    "    fig = px.scatter(plot_data, x='PC2', y='PC1', color='Cluster', hover_name='State',\n",
    "                     title=f'PCA Clustering with State Names (Clusters: {num_clusters})',\n",
    "                     labels={'PC1': 'Principal Component 1', 'PC2': 'Principal Component 2'},   #this seciton was modidifed to view the second PCA\n",
    "                     template='plotly_white', width=800, height=600)\n",
    "\n",
    "\n",
    "    return fig\n",
    "\n",
    "# Run the app\n",
    "if __name__ == '__main__':\n",
    "    app.run_server(debug=True)\n"
   ]
  },
  {
   "cell_type": "code",
   "execution_count": null,
   "metadata": {},
   "outputs": [],
   "source": [
    "#back up code for interactive plot above...\n",
    "\n",
    "fig = px.scatter(plot_data, x='PC2', y='PC1', color='Cluster', hover_name='State',\n",
    "                     title=f'PCA Clustering with State Names (Clusters: {num_clusters})',\n",
    "                     labels={'PC1': 'Principal Component 1', 'PC2': 'Principal Component 2'},\n",
    "                     template='plotly_white', width=800, height=600)\n",
    "\n",
    "\n",
    "#original code for PCa 1\n",
    "    # Create an interactive scatter plot using Plotly\n",
    "    fig = px.scatter(plot_data, x='PC1', y='PC2', color='Cluster', hover_name='State',\n",
    "                     title=f'PCA Clustering with State Names (Clusters: {num_clusters})',\n",
    "                     labels={'PC1': 'Principal Component 1', 'PC2': 'Principal Component 2'},\n",
    "                     template='plotly_white', width=800, height=600)\n"
   ]
  },
  {
   "cell_type": "code",
   "execution_count": 23,
   "metadata": {},
   "outputs": [
    {
     "data": {
      "text/html": [
       "\n",
       "        <iframe\n",
       "            width=\"100%\"\n",
       "            height=\"650\"\n",
       "            src=\"http://127.0.0.1:8050/\"\n",
       "            frameborder=\"0\"\n",
       "            allowfullscreen\n",
       "            \n",
       "        ></iframe>\n",
       "        "
      ],
      "text/plain": [
       "<IPython.lib.display.IFrame at 0x16c656abf90>"
      ]
     },
     "metadata": {},
     "output_type": "display_data"
    }
   ],
   "source": [
    "import plotly.express as px\n",
    "import pandas as pd\n",
    "from sklearn.decomposition import PCA\n",
    "from sklearn.cluster import KMeans\n",
    "import dash\n",
    "from dash import dcc, html\n",
    "from dash.dependencies import Input, Output\n",
    "\n",
    "\n",
    "\n",
    "# Extract state column (if needed for visualization or labeling)\n",
    "states = data['State']  # Assuming 'State' is the name of the column containing state information\n",
    "\n",
    "# Drop state column for PCA\n",
    "data_numeric = data.drop('State', axis=1)\n",
    "\n",
    "# Define the layout for the app\n",
    "app = dash.Dash(__name__)\n",
    "\n",
    "# Create a range of cluster values for the cluster slider\n",
    "cluster_range = list(range(1, 11))\n",
    "\n",
    "# Create a range of principal component values for the PCA slider\n",
    "pca_range = list(range(1, min(data_numeric.shape) + 1))\n",
    "\n",
    "# Define the app layout\n",
    "app.layout = html.Div([\n",
    "    html.H1(\"PCA Clustering with State Names\"),\n",
    "    dcc.Graph(id='cluster-graph'),\n",
    "    html.Label('Number of Clusters'),\n",
    "    dcc.Slider(\n",
    "        id='cluster-slider',\n",
    "        min=1,\n",
    "        max=10,\n",
    "        step=1,\n",
    "        value=5,\n",
    "        marks={i: str(i) for i in cluster_range}\n",
    "    ),\n",
    "    html.Label('Number of Principal Components'),\n",
    "    dcc.Slider(\n",
    "        id='pca-slider',\n",
    "        min=1,\n",
    "        max=min(data_numeric.shape),\n",
    "        step=1,\n",
    "        value=2,\n",
    "        marks={i: str(i) for i in pca_range}\n",
    "    )\n",
    "])\n",
    "\n",
    "# Define callback to update the plot based on slider values\n",
    "@app.callback(\n",
    "    Output('cluster-graph', 'figure'),\n",
    "    [Input('cluster-slider', 'value'),\n",
    "     Input('pca-slider', 'value')]\n",
    ")\n",
    "def update_cluster_graph(num_clusters, num_pca_components):\n",
    "    # Perform PCA with the specified number of components\n",
    "    pca = PCA(n_components=num_pca_components)\n",
    "    pca_data = pca.fit_transform(data_numeric)\n",
    "\n",
    "    # Perform clustering on PCA-transformed data with the specified number of clusters\n",
    "    kmeans = KMeans(n_clusters=num_clusters)\n",
    "    clusters = kmeans.fit_predict(pca_data)\n",
    "\n",
    "    # Create a DataFrame for visualization\n",
    "    plot_data = {'State': states, 'Cluster': clusters}\n",
    "    for i in range(1, num_pca_components + 1):\n",
    "        plot_data[f'PC{i}'] = pca_data[:, i-1]\n",
    "\n",
    "    # Create an interactive scatter plot using Plotly\n",
    "    fig = px.scatter(plot_data, x=f'PC{num_pca_components}', y=f'PC1', color='Cluster', hover_name='State',\n",
    "                     title=f'PCA Clustering with State Names (Clusters: {num_clusters}, Components: {num_pca_components})',\n",
    "                     labels={'PC1': 'Principal Component 1', f'PC{num_pca_components}': f'Principal Component {num_pca_components}'},\n",
    "                     template='plotly_white', width=800, height=600)\n",
    "\n",
    "    return fig\n",
    "\n",
    "# Run the app\n",
    "if __name__ == '__main__':\n",
    "    app.run_server(debug=True)\n"
   ]
  }
 ],
 "metadata": {
  "kernelspec": {
   "display_name": "Python 3",
   "language": "python",
   "name": "python3"
  },
  "language_info": {
   "codemirror_mode": {
    "name": "ipython",
    "version": 3
   },
   "file_extension": ".py",
   "mimetype": "text/x-python",
   "name": "python",
   "nbconvert_exporter": "python",
   "pygments_lexer": "ipython3",
   "version": "3.11.5"
  }
 },
 "nbformat": 4,
 "nbformat_minor": 2
}
